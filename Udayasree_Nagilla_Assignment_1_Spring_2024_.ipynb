{
  "cells": [
    {
      "cell_type": "markdown",
      "metadata": {
        "id": "view-in-github",
        "colab_type": "text"
      },
      "source": [
        "<a href=\"https://colab.research.google.com/github/NagillaUdayasree/Udayasree_INFO5731_Spring2024/blob/main/Udayasree_Nagilla_Assignment_1_Spring_2024_.ipynb\" target=\"_parent\"><img src=\"https://colab.research.google.com/assets/colab-badge.svg\" alt=\"Open In Colab\"/></a>"
      ]
    },
    {
      "cell_type": "markdown",
      "metadata": {
        "id": "Ryk8D1Q4Wsrp"
      },
      "source": [
        "# **INFO5731 Assignment One**"
      ]
    },
    {
      "cell_type": "markdown",
      "source": [
        "This assignment includes range of programming tasks and data analysis exercises, aiming to enhance your Python skills and proficiency in string manipulation, numerical computations, and data science. Follow the instructions carefully and design well-structured Python programs to address each question.\n",
        "\n",
        "Late Submission will have a penalty of 10% reduction for each day after the deadline."
      ],
      "metadata": {
        "id": "qcP6re2g5A5r"
      }
    },
    {
      "cell_type": "markdown",
      "metadata": {
        "id": "JkzR8cFAyGik"
      },
      "source": [
        "# Question 1 (10 points).\n",
        "\n",
        "The formula that describes the volume V of a hemisphere with radius r is the following:\n",
        "\n",
        "$ V=\\frac{2}{3}\\ast\\ \\pi\\ast\\ r^3 $\n",
        "\n",
        "Write a program to calculate the value of V when r is in the range of even numbers from 1-20. Output the result in the following format:\n",
        "\n",
        "\tr\tV\n",
        "\t2\t…\n",
        "\t4\t…\n",
        "\t6\t…\n",
        "\t.\n",
        "\t.\n",
        "\t.\n",
        "\t20\t…\n"
      ]
    },
    {
      "cell_type": "code",
      "execution_count": 63,
      "metadata": {
        "id": "jDyTKYs-yGit",
        "colab": {
          "base_uri": "https://localhost:8080/"
        },
        "outputId": "dbed0e01-a17d-4c0a-f26d-15aba3ee6e41"
      },
      "outputs": [
        {
          "output_type": "stream",
          "name": "stdout",
          "text": [
            "r\tV\n",
            "2\t16.76\n",
            "4\t134.04\n",
            "6\t452.39\n",
            "8\t1072.33\n",
            "10\t2094.40\n",
            "12\t3619.11\n",
            "14\t5747.02\n",
            "16\t8578.64\n",
            "18\t12214.51\n",
            "20\t16755.16\n"
          ]
        }
      ],
      "source": [
        "import math\n",
        "print(f'r\\tV') #to print the variable heading\n",
        "for r in range(2,22,2): # for loop to generate r values\n",
        "  V=(2/3)*math.pi*(r**3)\n",
        "  print(f'{r}\\t{V:.2f}') #.2f is used to roundoff the values"
      ]
    },
    {
      "cell_type": "markdown",
      "metadata": {
        "id": "90_NR8c5XGWc"
      },
      "source": [
        "# Question 2 (20 points)\n",
        "\n",
        "(a) Write a Python program to generate a sequence of 12 random numbers falling within the range of 50 to 150.\n",
        "\n",
        "(b) Arrange the generated numbers in ascending order. Display the sorted list.\n",
        "\n",
        "(c) Extend the program to arrange the numbers in descending order as well. Present the sorted list accordingly.\n",
        "\n",
        "(d) Compute and output the average of the entire group of generated numbers.\n",
        "\n",
        "(e) Enhance the program to calculate and display the average of the first 6 numbers from both the ascending and descending sorted lists."
      ]
    },
    {
      "cell_type": "code",
      "execution_count": 64,
      "metadata": {
        "id": "5QX6bJjGWXY9",
        "colab": {
          "base_uri": "https://localhost:8080/"
        },
        "outputId": "feb343c6-9e63-4f93-e2fa-43f012f473ec"
      },
      "outputs": [
        {
          "output_type": "stream",
          "name": "stdout",
          "text": [
            "Generated random list: [137, 67, 107, 112, 90, 96, 66, 122, 114, 107, 127, 60]\n",
            "Ascending order of the generated list: [60, 66, 67, 90, 96, 107, 107, 112, 114, 122, 127, 137]\n",
            "Descending order of the generated list: [137, 127, 122, 114, 112, 107, 107, 96, 90, 67, 66, 60]\n",
            "Average of the list: 100.42\n",
            "Average of first 6 numbers in ascending list 81.0\n",
            "Average of first 6 numbers in descending list 119.83333333333333\n"
          ]
        }
      ],
      "source": [
        "# Write code for each of the sub parts with proper comments.\n",
        "import random\n",
        "#To generate random values\n",
        "random_list=[]\n",
        "for i in range (12):\n",
        "  random_list.append(random.randrange(50,150))   #appending the generated numbers in to created list\n",
        "print(\"Generated random list:\",random_list)\n",
        "\n",
        "#sorting the list to ascending order\n",
        "Ascending=sorted(random_list)                   #sorted function used to sort in ascending order\n",
        "print(\"Ascending order of the generated list:\",Ascending)\n",
        "\n",
        "#sorting the list to descending order\n",
        "Descending=sorted(random_list,reverse=True)    #function used to sort in descending order\n",
        "print(\"Descending order of the generated list:\",Descending)\n",
        "\n",
        "#Average of the generated list\n",
        "Average=sum((random_list))/len(random_list)\n",
        "print(\"Average of the list:\",round(Average,2))\n",
        "\n",
        "#average of first 6 numbers in ascending list\n",
        "Avg_of_Asc=sum(Ascending[:6])/6\n",
        "print(\"Average of first 6 numbers in ascending list\",Avg_of_Asc)\n",
        "\n",
        "#average of first 6 numbers in descending list\n",
        "Avg_of_Des=sum(Descending[:6])/6\n",
        "print(\"Average of first 6 numbers in descending list\",Avg_of_Des)\n",
        "\n",
        "\n",
        "\n",
        "\n",
        "\n"
      ]
    },
    {
      "cell_type": "markdown",
      "metadata": {
        "id": "1F_PZdH9Sh49"
      },
      "source": [
        "# Question 3 (20 points).\n",
        "\n",
        "Create a Python program that encompasses various string manipulation task:\n",
        "\n",
        "(a) Prompt the user to input two sentences.\n",
        "\n",
        "(b) Transform each sentence into a list, where each element corresponds to a word in the sentence. For example, if the sentences are \"Hello, how are you doing today?\" and \"This is an example sentence for the program!\"\n",
        "\n",
        "The program should output:\n",
        "['Hello', ',', 'how', 'are', 'you', 'doing', 'today', '?', 'This', 'is', 'an', 'example', 'sentence', 'for', 'the', 'program', '!']\n",
        "\n",
        "(c) Compare the two sentences. Print out a list of words that occur in both sentences.\n",
        "\n",
        "(d) Remove any punctuation from the sentence and print the sanitized sentences. It should remove at least the following characters, but it can remove more: period(“.”), comma (“,”), semicolon (“;”), and colon (“:”).\n",
        "\n",
        "(e) Count the number of vowels in each of the sentences. Print out each vowel and the occurrences  in the each of the two sentences separately, such as:\n",
        "\n",
        "Sentence1: a:2, e:2, i:0, etc.\n",
        "Sentence2: a:1, e:2, i:2, etc.\n",
        "\n",
        "Design a well-structured Python program to execute these tasks efficiently."
      ]
    },
    {
      "cell_type": "code",
      "execution_count": 66,
      "metadata": {
        "id": "Y0oOSlsOS0cq",
        "colab": {
          "base_uri": "https://localhost:8080/"
        },
        "outputId": "ca6512ae-9f51-42ce-ec49-31ac90a60c8f"
      },
      "outputs": [
        {
          "output_type": "stream",
          "name": "stdout",
          "text": [
            "Enter the first sentence: How are you ?\n",
            "Enter the second sentence: How was your day\n",
            "Transformed Sentences:\n",
            "['How', 'are', 'you', '?', 'How', 'was', 'your', 'day']\n",
            "\n",
            "Common Words:\n",
            "['How']\n",
            "\n",
            "Sanitized Sentences:\n",
            "How are you \n",
            "How was your day\n",
            "\n",
            "Vowel Counts:\n",
            "First Sentence: a:1, e:1, i:0, o:2, u:1, \n",
            "Second Sentence: a:2, e:0, i:0, o:2, u:1, \n"
          ]
        }
      ],
      "source": [
        "import string\n",
        "# function used to read 2 sentences\n",
        "def read_input_sentences():\n",
        "    first_sentence = input(\"Enter the first sentence: \")\n",
        "    second_sentence = input(\"Enter the second sentence: \")\n",
        "    return first_sentence, second_sentence\n",
        "\n",
        "# function used to split the sentences into words\n",
        "def split_sentence(sentence):\n",
        "    words = sentence.split()\n",
        "    return words\n",
        "\n",
        "#To find common words in both sentences\n",
        "def find_common_words(words1, words2):\n",
        "    common_words = set(words1) & set(words2)\n",
        "    return list(common_words)\n",
        "\n",
        "#To remove punctuations\n",
        "def remove_punctuation(sentence):\n",
        "    return sentence.translate(str.maketrans('', '', string.punctuation))\n",
        "\n",
        "# to count the vowels present in both statements\n",
        "def count_vowels(sentence):\n",
        "    vowels = \"aeiou\"\n",
        "    count_dict = {vowel: 0 for vowel in vowels}\n",
        "    for char in sentence:\n",
        "        if char.lower() in vowels:\n",
        "            count_dict[char.lower()] += 1\n",
        "    return count_dict\n",
        "\n",
        "def display_vowel_counts(sentence_name, count_dict):\n",
        "    print(f\"{sentence_name}: \", end=\"\")\n",
        "    for vowel, count in count_dict.items():\n",
        "        print(f\"{vowel}:{count}, \", end=\"\")\n",
        "    print()\n",
        "\n",
        "#main function\n",
        "def main():\n",
        "    first_sentence, second_sentence = read_input_sentences()\n",
        "\n",
        "    words_first = split_sentence(first_sentence)\n",
        "    words_second = split_sentence(second_sentence)\n",
        "\n",
        "    common_words = find_common_words(words_first, words_second)\n",
        "\n",
        "    sanitized_first_sentence = remove_punctuation(first_sentence)\n",
        "    sanitized_second_sentence = remove_punctuation(second_sentence)\n",
        "\n",
        "    vowel_count_first = count_vowels(first_sentence)\n",
        "    vowel_count_second = count_vowels(second_sentence)\n",
        "\n",
        "    print(\"Transformed Sentences:\")\n",
        "    print(words_first + words_second)\n",
        "\n",
        "    print(\"\\nCommon Words:\")\n",
        "    print(common_words)\n",
        "\n",
        "    print(\"\\nSanitized Sentences:\")\n",
        "    print(sanitized_first_sentence)\n",
        "    print(sanitized_second_sentence)\n",
        "\n",
        "    print(\"\\nVowel Counts:\")\n",
        "    display_vowel_counts(\"First Sentence\", vowel_count_first)\n",
        "    display_vowel_counts(\"Second Sentence\", vowel_count_second)\n",
        "\n",
        "if __name__ == \"__main__\":\n",
        "    main()\n"
      ]
    },
    {
      "cell_type": "markdown",
      "source": [
        "# Question 4 (20 Points)"
      ],
      "metadata": {
        "id": "OP4-5qxAtInv"
      }
    },
    {
      "cell_type": "markdown",
      "source": [
        "Design and implement a simple command-line calculator program. The program should handle both integers and floating-point numbers.\n",
        "\n",
        "(a) Write program that takes a mathematical expression as input and evaluates it. The program should support addition, subtraction, multiplication, and division.\n",
        "\n",
        "(b) Extend the calculator to handle parentheses in mathematical expressions. Implement the necessary logic to evaluate expressions with nested parentheses.\n",
        "\n",
        "(c) Enhance your calculator to include additional mathematical operations such as exponentiation, square root, and modulus.\n",
        "\n",
        "(d) Implement error handling in the calculator program. Handle cases such as division by zero and invalid input expressions. Provide meaningful error messages.\n",
        "\n",
        "(e) Implement a command to exit the calculator."
      ],
      "metadata": {
        "id": "uzN4_hDptK9U"
      }
    },
    {
      "cell_type": "code",
      "source": [
        "#function to add two numbers\n",
        "def add(a,b):\n",
        "  return a+b\n",
        "\n",
        "#function to substract two numbers\n",
        "def sub(a,b):\n",
        "  return a-b\n",
        "\n",
        "#function to multiply two numbers\n",
        "def mul(a,b):\n",
        "  return a*b\n",
        "\n",
        "#function to divide two numbers\n",
        "def div(a,b):\n",
        "  try:\n",
        "    return a/b\n",
        "  except ZeroDivisionError:\n",
        "    print(\"error: dividing by zero\")\n",
        "\n",
        "#function to find the exponential value\n",
        "def exponentiation(a,b):\n",
        "  return a**b\n",
        "\n",
        "#function forr squareroot\n",
        "def squareroot(a):\n",
        "  return a**0.5\n",
        "\n",
        "#function for modulus operation\n",
        "def modulus(a,b):\n",
        "  return a%b\n",
        "\n",
        "#function to solve infix expressions\n",
        "def parantheses(equation):\n",
        "  return eval(equation)\n",
        "\n",
        "#main function\n",
        "def main():\n",
        "  try:\n",
        "    a = int(input(\"enter value1: \"))\n",
        "    b = int(input(\"enter value2: \"))\n",
        "    print(add(a,b))\n",
        "    print(sub(a,b))\n",
        "    print(div(a,b))\n",
        "    print(exponentiation(a,b))\n",
        "    print(squareroot(a))\n",
        "    print(modulus(a,b))\n",
        "    eqn = input(\"enter equation with parantheses\")\n",
        "    print(parantheses(eqn))\n",
        "  except ValueError:\n",
        "        print(\"Error: Invalid input. Please enter valid integers for values a and b.\")\n",
        "\n",
        "\n",
        "if __name__ == \"__main__\":\n",
        "    main()\n",
        "\n",
        "\n",
        "\n"
      ],
      "metadata": {
        "id": "8nQnVxjJuYtu",
        "colab": {
          "base_uri": "https://localhost:8080/"
        },
        "outputId": "fdfa2dea-b1fb-44b6-d536-1ca5811138cf"
      },
      "execution_count": 52,
      "outputs": [
        {
          "output_type": "stream",
          "name": "stdout",
          "text": [
            "enter value1: 6\n",
            "enter value2: 6\n",
            "12\n",
            "0\n",
            "1.0\n",
            "46656\n",
            "2.449489742783178\n",
            "0\n",
            "enter equation with parantheses((5+5)-(4*3))\n",
            "-2\n"
          ]
        }
      ]
    },
    {
      "cell_type": "markdown",
      "metadata": {
        "id": "z3tBE7E-Xn5X"
      },
      "source": [
        "# Question 5 (30 points).\n",
        "\n",
        "In the field of Data Science, data is often formatted as a comma-delimited (CSV) file, where each line in a file corresponds to a field's value. Refer to Chapter 9 (p. 106) for more information on comma-delimited files.\n",
        "\n",
        "To answer this question, you will need to download the file [Assignment1_denton_housing.csv](https://raw.githubusercontent.com/unt-iialab/info5731-spring2022/main/assignments/Assignment1_denton_housing.csv) included with this assignment. The file contains statistics about housing in the city of Denton from 2008 to 2014. Write a program to implement the following questions.\n",
        "\n",
        "(a) (5 pts) Calculate the difference in the number of Occupied Housing Units from year to year and print it. The difference must be calculated for the consecutive years such as 2008-2009, 2009-2010 etc. Finally, print the values in the ascending order.\n",
        "\n",
        "(b) (5 pts) For all the years, calculate the percentage of housing units which are vacant an occupied. Print the results in the following format:\n",
        "\n",
        "Year Vacant Housing Units Occupied Housing Units\n",
        "\n",
        "    2008  30%   70%                          \n",
        "\t2009 ----- -----\n",
        "\t2010 ----- -----\n",
        "    2011 ----- -----\n",
        "\t2012 ----- -----\n",
        "    2013 ----- -----\n",
        "\t2014 ----- -----\n",
        "  \n",
        "  \n",
        "\n",
        "(c) (10 pts) Calculate and print the valued and years in which the highest number of housing units were vacant and occupied. Print the results in the following format:  \n",
        "\n",
        "                              Year\tValue\n",
        "\tVacant Housing Units\t  -----   -----\n",
        "\tOccupied Housing Units\t-----   -----\n",
        "\n",
        "(d) (10 pts) Calculate the harmonic mean of the total housing units and print it out. You can find the information about harmonic mean here: https://ncalculators.com/statistics/harmonic-mean-calculator.htm"
      ]
    },
    {
      "cell_type": "code",
      "execution_count": 61,
      "metadata": {
        "id": "lqGYuHBhcsRH",
        "colab": {
          "base_uri": "https://localhost:8080/"
        },
        "outputId": "f7d9f2e9-bb20-4f65-b845-5432e99c1aaa"
      },
      "outputs": [
        {
          "output_type": "stream",
          "name": "stdout",
          "text": [
            "    year             title_field  value\n",
            "0   2014     Total Housing Units  49109\n",
            "1   2014    Vacant Housing Units   2814\n",
            "2   2014  Occupied Housing Units  46295\n",
            "3   2013     Total Housing Units  47888\n",
            "4   2013    Vacant Housing Units   4215\n",
            "5   2013  Occupied Housing Units  43673\n",
            "6   2012     Total Housing Units  45121\n",
            "7   2012    Vacant Housing Units   3013\n",
            "8   2012  Occupied Housing Units  42108\n",
            "9   2011     Total Housing Units  44917\n",
            "10  2011    Vacant Housing Units   4213\n",
            "11  2011  Occupied Housing Units  40704\n",
            "12  2010     Total Housing Units  44642\n",
            "13  2010    Vacant Housing Units   3635\n",
            "14  2010  Occupied Housing Units  41007\n",
            "15  2009     Total Housing Units  39499\n",
            "16  2009    Vacant Housing Units   3583\n",
            "17  2009  Occupied Housing Units  35916\n",
            "18  2008     Total Housing Units  41194\n",
            "19  2008    Vacant Housing Units   4483\n",
            "20  2008  Occupied Housing Units  36711\n",
            "21  2014          Owner Occupied  21427\n",
            "22  2014         Renter Occupied  24868\n",
            "23  2013          Owner Occupied  20845\n",
            "24  2013         Renter Occupied  22828\n",
            "25  2012          Owner Occupied  20068\n",
            "26  2012         Renter Occupied  22040\n",
            "27  2011          Owner Occupied  18478\n",
            "28  2011         Renter Occupied  22226\n",
            "29  2010          Owner Occupied  18867\n",
            "30  2010         Renter Occupied  22140\n",
            "31  2009          Owner Occupied  18057\n",
            "32  2009         Renter Occupied  17859\n",
            "33  2008          Owner Occupied  17340\n",
            "34  2008         Renter Occupied  19371\n",
            "35  2014       Median Gross Rent    905\n",
            "36  2013       Median Gross Rent    887\n",
            "37  2012       Median Gross Rent    842\n",
            "38  2011       Median Gross Rent    821\n",
            "39  2010       Median Gross Rent    780\n",
            "40  2009       Median Gross Rent    769\n",
            "41  2008       Median Gross Rent    768\n",
            "    year  Occupied Housing Units Difference\n",
            "17  2009                             -795.0\n",
            "11  2011                             -303.0\n",
            "8   2012                             1404.0\n",
            "5   2013                             1565.0\n",
            "2   2014                             2622.0\n",
            "14  2010                             5091.0\n",
            "title_field Percentage Vacant Percentage Occupied\n",
            "year                                             \n",
            "2008                    10.9%               89.1%\n",
            "2009                     9.1%               90.9%\n",
            "2010                     8.1%               91.9%\n",
            "2011                     9.4%               90.6%\n",
            "2012                     6.7%               93.3%\n",
            "2013                     8.8%               91.2%\n",
            "2014                     5.7%               94.3%\n",
            "                    Title  Year  Value\n",
            "0    Vacant Housing Units  2008   4483\n",
            "1  Occupied Housing Units  2014  46295\n",
            "Harmonic Mean of Total Housing Units: 44398.28543969185\n"
          ]
        }
      ],
      "source": [
        "import pandas as pd\n",
        "\n",
        "file_path = \"Assignment1_denton_housing.csv\"\n",
        "housing_data = pd.read_csv(file_path)\n",
        "print(housing_data)   #printing the given housing data for reference\n",
        "\n",
        "housing_data['year'] = pd.to_numeric(housing_data['year'])\n",
        "sorted_housing_data = housing_data.sort_values('year')\n",
        "\n",
        "occupied_units = sorted_housing_data[sorted_housing_data['title_field'] == 'Occupied Housing Units']\n",
        "occupied_units_diff = pd.DataFrame({\n",
        "    'year': occupied_units['year'],\n",
        "    'Occupied Housing Units Difference': occupied_units['value'].diff()\n",
        "})\n",
        "sorted_diff_result = occupied_units_diff.dropna().sort_values('Occupied Housing Units Difference', ascending=True)\n",
        "print(sorted_diff_result)\n",
        "\n",
        "# Calculate and print the percentage of vacant and occupied housing units\n",
        "grouped_data = housing_data.groupby(['year', 'title_field'])['value'].sum().unstack()\n",
        "grouped_data['Total Housing Units'] = grouped_data['Vacant Housing Units'] + grouped_data['Occupied Housing Units']\n",
        "grouped_data['Percentage Vacant'] = (grouped_data['Vacant Housing Units'] / grouped_data['Total Housing Units']) * 100\n",
        "grouped_data['Percentage Occupied'] = (grouped_data['Occupied Housing Units'] / grouped_data['Total Housing Units']) * 100\n",
        "print(grouped_data[['Percentage Vacant', 'Percentage Occupied']].round(1).astype(str) + '%')\n",
        "\n",
        "# Identify and print the maximum vacant and maximum occupied houses among all years\n",
        "max_vacant = housing_data[housing_data['title_field'] == 'Vacant Housing Units'].nlargest(1, 'value')\n",
        "max_occupied = housing_data[housing_data['title_field'] == 'Occupied Housing Units'].nlargest(1, 'value')\n",
        "\n",
        "result_max_values = pd.DataFrame({\n",
        "    'Title': ['Vacant Housing Units', 'Occupied Housing Units'],\n",
        "    'Year': [max_vacant['year'].values[0], max_occupied['year'].values[0]],\n",
        "    'Value': [max_vacant['value'].values[0], max_occupied['value'].values[0]]\n",
        "})\n",
        "print(result_max_values)\n",
        "\n",
        "# Calculate and print the harmonic mean of total housing units\n",
        "total_housing = housing_data[housing_data['title_field'] == 'Total Housing Units']\n",
        "n_total_housing = len(total_housing)\n",
        "harmonic_mean_total_housing = n_total_housing / sum(1 / x for x in total_housing['value'])\n",
        "print(\"Harmonic Mean of Total Housing Units:\", harmonic_mean_total_housing)\n"
      ]
    },
    {
      "cell_type": "markdown",
      "source": [
        "# Mandatory Question\n",
        "\n",
        "Provide your thoughts on the assignment. What did you find challenging, and what aspects did you enjoy? Your opinion on the provided time to complete the assignment. Share any suggestions for improvement. Your feedback will be valuable for enhancing the learning experience."
      ],
      "metadata": {
        "id": "q8BFCvWp32cf"
      }
    },
    {
      "cell_type": "code",
      "source": [
        "The assignment covered different topics which gave brief idea about different functions. Provide time was sufficient for the assignment.que.5 is something new to me had different exposure through it."
      ],
      "metadata": {
        "id": "_e557s2w4BpK"
      },
      "execution_count": null,
      "outputs": []
    }
  ],
  "metadata": {
    "colab": {
      "provenance": [],
      "include_colab_link": true
    },
    "kernelspec": {
      "display_name": "Python 3 (ipykernel)",
      "language": "python",
      "name": "python3"
    },
    "language_info": {
      "codemirror_mode": {
        "name": "ipython",
        "version": 3
      },
      "file_extension": ".py",
      "mimetype": "text/x-python",
      "name": "python",
      "nbconvert_exporter": "python",
      "pygments_lexer": "ipython3",
      "version": "3.9.12"
    }
  },
  "nbformat": 4,
  "nbformat_minor": 0
}