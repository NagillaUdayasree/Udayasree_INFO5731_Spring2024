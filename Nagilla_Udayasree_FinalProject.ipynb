{
  "nbformat": 4,
  "nbformat_minor": 0,
  "metadata": {
    "colab": {
      "provenance": [],
      "authorship_tag": "ABX9TyP1QBVvVfokCBRxQgMXfAB6",
      "include_colab_link": true
    },
    "kernelspec": {
      "name": "python3",
      "display_name": "Python 3"
    },
    "language_info": {
      "name": "python"
    }
  },
  "cells": [
    {
      "cell_type": "markdown",
      "metadata": {
        "id": "view-in-github",
        "colab_type": "text"
      },
      "source": [
        "<a href=\"https://colab.research.google.com/github/NagillaUdayasree/Udayasree_INFO5731_Spring2024/blob/main/Nagilla_Udayasree_FinalProject.ipynb\" target=\"_parent\"><img src=\"https://colab.research.google.com/assets/colab-badge.svg\" alt=\"Open In Colab\"/></a>"
      ]
    },
    {
      "cell_type": "code",
      "source": [
        "import pandas as pd\n",
        "import requests\n",
        "import json\n",
        "import time\n",
        "\n",
        "def calculate_redundancy_with_gpt(df, api_key):\n",
        "    # Get the count of each term\n",
        "    term_counts = df['FormalTerm'].value_counts()\n",
        "    # Identify terms that appear more than once\n",
        "    duplicate_terms = term_counts[term_counts > 1].index.tolist()\n",
        "    redundant_terms_count = sum(term_counts[term_counts > 1]) - len(duplicate_terms)  # Subtract to not count the first occurrence\n",
        "\n",
        "    total_formal_terms = len(df['FormalTerm'])\n",
        "    checked_terms = 0\n",
        "    total_terms_to_check = len(duplicate_terms)\n",
        "\n",
        "    # For each duplicate term, confirm with GPT if it's actually redundant\n",
        "    for term in duplicate_terms:\n",
        "        prompt = f\"Is the term '{term}' generally known to be a term with multiple meanings or uses in the medical field?\"\n",
        "        is_redundant = ask_gpt(prompt, api_key)\n",
        "        if not is_redundant:  # If GPT says it's not redundant, we reduce the count\n",
        "            redundant_terms_count -= (term_counts[term] - 1)\n",
        "\n",
        "        # Update and print progress\n",
        "        checked_terms += 1\n",
        "        progress_percentage = (checked_terms / total_terms_to_check) * 100\n",
        "        print(f\"\\rProgress: {progress_percentage:.2f}% complete\", end='', flush=True)\n",
        "\n",
        "    redundancy_percentage = (redundant_terms_count / total_formal_terms) * 100\n",
        "\n",
        "    return redundancy_percentage, total_formal_terms, redundant_terms_count\n",
        "\n",
        "def ask_gpt(prompt, api_key):\n",
        "    url = \"https://api.openai.com/v1/chat/completions\"\n",
        "    headers = {\n",
        "        \"Authorization\": f\"Bearer {api_key}\",\n",
        "        \"Content-Type\": \"application/json\",\n",
        "    }\n",
        "    payload = {\n",
        "        \"model\": \"gpt-3.5-turbo\",\n",
        "        \"messages\": [{\"role\": \"user\", \"content\": prompt}]\n",
        "    }\n",
        "    max_retries = 10\n",
        "    retry_delay = 10\n",
        "    for attempt in range(max_retries):\n",
        "        response = requests.post(url, headers=headers, data=json.dumps(payload))\n",
        "        if response.status_code == 200:\n",
        "            response_json = response.json()\n",
        "            content = response_json.get('choices', [{}])[0].get('message', {}).get('content', '').lower()\n",
        "            affirmative_phrases = ['yes', 'true', 'commonly', 'often', 'generally']\n",
        "            return any(phrase in content for phrase in affirmative_phrases)\n",
        "        elif response.status_code == 429:\n",
        "            time.sleep(retry_delay)\n",
        "            retry_delay *= 1.5\n",
        "        else:\n",
        "            print(f\"Failed attempt {attempt + 1}: Status code {response.status_code}\")\n",
        "            time.sleep(3)\n",
        "    raise Exception(\"Exceeded maximum retries.\")\n",
        "\n",
        "# Loading the dataset from the file\n",
        "file_path = 'AskAPatient_dataset.xlsx'\n",
        "df = pd.read_excel(file_path)\n",
        "\n",
        "#  API key\n",
        "api_key = 'sk-proj-9hKjQtT6e6orqiwwd10jT3BlbkFJkW2KlXLZ4Ir2B7s6ja5V'\n",
        "\n",
        "# Calculate redundancy using GPT API\n",
        "redundancy_percentage, total_terms, redundant_terms = calculate_redundancy_with_gpt(df, api_key)\n",
        "\n",
        "# Printing the results\n",
        "print(\"\\nRedundancy Percentage:\", redundancy_percentage, \"%\")\n",
        "print(\"Total Formal Terms:\", total_terms)\n",
        "print(\"Redundant Terms:\", redundant_terms)\n",
        "\n"
      ],
      "metadata": {
        "colab": {
          "base_uri": "https://localhost:8080/"
        },
        "id": "9ep2iitKtND6",
        "outputId": "82064f81-b312-41fe-94d0-fd53c83d591d"
      },
      "execution_count": 5,
      "outputs": [
        {
          "output_type": "stream",
          "name": "stdout",
          "text": [
            "Progress: 100.00% complete\n",
            "Redundancy Percentage: 88.77767280341138 %\n",
            "Total Formal Terms: 156652\n",
            "Redundant Terms: 139072\n"
          ]
        }
      ]
    },
    {
      "cell_type": "code",
      "source": [
        "import matplotlib.pyplot as plt\n",
        "\n",
        "# Data\n",
        "redundancy_percentage = 88.77767280341138\n",
        "total_formal_terms = 156652\n",
        "redundant_terms = 139072\n",
        "\n",
        "# Plotting\n",
        "labels = ['Total Formal Terms', 'Redundant Terms']\n",
        "values = [total_formal_terms, redundant_terms]\n",
        "\n",
        "plt.bar(labels, values, color=['green', 'black'])\n",
        "plt.ylabel('Number of Terms')\n",
        "plt.title('Redundancy Analysis')\n",
        "plt.text(-0.1, total_formal_terms + 1000, f'{total_formal_terms}', color='black', fontsize=12)\n",
        "plt.text(0.9, redundant_terms + 1000, f'{redundant_terms}', color='black', fontsize=12)\n",
        "plt.ylim(0, total_formal_terms + 20000) # Setting y-axis limit to accommodate text\n",
        "\n",
        "plt.show()\n"
      ],
      "metadata": {
        "colab": {
          "base_uri": "https://localhost:8080/",
          "height": 452
        },
        "id": "VV_ApQQ1olGD",
        "outputId": "1e3ba2c7-381c-4165-8baf-37ab2f66cdf5"
      },
      "execution_count": 13,
      "outputs": [
        {
          "output_type": "display_data",
          "data": {
            "text/plain": [
              "<Figure size 640x480 with 1 Axes>"
            ],
            "image/png": "[encoded data removed]"
          },
          "metadata": {}
        }
      ]
    },
    {
      "cell_type": "code",
      "source": [
        "import pandas as pd\n",
        "import requests\n",
        "import json\n",
        "import time\n",
        "\n",
        "def calculate_uniqueness(df, api_key):\n",
        "    term_counts = df['FormalTerm'].value_counts()\n",
        "    unique_terms_count = 0\n",
        "    processed_terms = 0\n",
        "    total_terms_to_process = len(term_counts)\n",
        "\n",
        "    for term, count in term_counts.items():\n",
        "        # Check if the term is generally known to have multiple meanings\n",
        "        prompt = f\"Is the term '{term}' generally known to be a term with multiple distinct uses in the medical field?\"\n",
        "        if ask_gpt(prompt, api_key):\n",
        "            # If yes, we consider the first occurrence as unique\n",
        "            unique_terms_count += 1\n",
        "        else:\n",
        "            # If no, we count all occurrences as unique since each is likely context-specific\n",
        "            unique_terms_count += count\n",
        "        processed_terms += 1\n",
        "        print(f\"\\rProgress: {processed_terms/total_terms_to_process*100:.2f}% complete\", end='', flush=True)\n",
        "\n",
        "    total_formal_terms = len(df['FormalTerm'])\n",
        "    uniqueness_percentage = (unique_terms_count / total_formal_terms) * 100\n",
        "\n",
        "    return uniqueness_percentage, total_formal_terms, unique_terms_count\n",
        "\n",
        "def ask_gpt(prompt, api_key):\n",
        "    url = \"https://api.openai.com/v1/chat/completions\"\n",
        "    headers = {\n",
        "        \"Authorization\": f\"Bearer {api_key}\",\n",
        "        \"Content-Type\": \"application/json\",\n",
        "    }\n",
        "    payload = {\n",
        "        \"model\": \"gpt-3.5-turbo\",\n",
        "        \"messages\": [{\"role\": \"user\", \"content\": prompt}]\n",
        "    }\n",
        "    response = requests.post(url, headers=headers, json=payload)\n",
        "    if response.status_code == 200:\n",
        "        response_json = response.json()\n",
        "        content = response_json.get('choices', [{}])[0].get('message', {}).get('content', '').lower()\n",
        "        affirmative_phrases = ['yes', 'true', 'commonly', 'often', 'generally']\n",
        "        return any(phrase in content for phrase in affirmative_phrases)\n",
        "    else:\n",
        "        print(f\"Error: {response.status_code}, Message: {response.text}\")\n",
        "        return False  # Consider failing the check as not redundant for safety\n",
        "\n",
        "# Loading the dataset from the file\n",
        "file_path = 'AskAPatient_dataset.xlsx'\n",
        "df = pd.read_excel(file_path)\n",
        "\n",
        "# API key for OpenAI\n",
        "api_key = 'sk-proj-IgkXC0en5On87FnBgVHqT3BlbkFJDYBeLOtoMsHjvxMJp1I2'\n",
        "\n",
        "# Calculate uniqueness with potential GPT checks\n",
        "uniqueness_percentage, total_terms, unique_terms = calculate_uniqueness(df, api_key)\n",
        "\n",
        "# Print the results\n",
        "print(\"\\nUniqueness Percentage:\", uniqueness_percentage, \"%\")\n",
        "print(\"Total Formal Terms:\", total_terms)\n",
        "print(\"Unique Terms:\", unique_terms)\n"
      ],
      "metadata": {
        "colab": {
          "base_uri": "https://localhost:8080/"
        },
        "id": "qSEXNvZrY02G",
        "outputId": "f63eae1a-fc28-498b-8a23-2ba4db2b1984"
      },
      "execution_count": 4,
      "outputs": [
        {
          "output_type": "stream",
          "name": "stdout",
          "text": [
            "Progress: 100.00% complete\n",
            "Uniqueness Percentage: 6.807445803436918 %\n",
            "Total Formal Terms: 156652\n",
            "Unique Terms: 10664\n"
          ]
        }
      ]
    },
    {
      "cell_type": "code",
      "source": [
        "import matplotlib.pyplot as plt\n",
        "\n",
        "# Data\n",
        "uniqueness_percentage = 6.807445803436918\n",
        "total_formal_terms = 156652\n",
        "unique_terms = 10664\n",
        "\n",
        "# Plotting\n",
        "labels = ['Total Formal Terms', 'Unique Terms']\n",
        "values = [total_formal_terms, unique_terms]\n",
        "\n",
        "plt.bar(labels, values, color=['blue', 'green'])\n",
        "plt.ylabel('Number of Terms')\n",
        "plt.title('Uniqueness Analysis')\n",
        "plt.text(-0.1, total_formal_terms + 1000, f'{total_formal_terms}', color='black', fontsize=12)\n",
        "plt.text(0.9, unique_terms + 1000, f'{unique_terms}', color='black', fontsize=12)\n",
        "plt.ylim(0, total_formal_terms + 20000) # Setting y-axis limit to accommodate text\n",
        "\n",
        "# Adding uniqueness percentage annotation\n",
        "plt.annotate(f'Uniqueness Percentage: {uniqueness_percentage:.2f}%',\n",
        "             xy=(0.5, 0), xytext=(0, -40),\n",
        "             xycoords=('axes fraction', 'figure fraction'),\n",
        "             textcoords='offset points',\n",
        "             fontsize=10, color='red',\n",
        "             ha='center', va='top')\n",
        "\n",
        "plt.show()\n"
      ],
      "metadata": {
        "colab": {
          "base_uri": "https://localhost:8080/",
          "height": 551
        },
        "id": "nOZVPxXhoy3R",
        "outputId": "61c13434-bac5-4786-84cc-af3ad14cea35"
      },
      "execution_count": 6,
      "outputs": [
        {
          "output_type": "display_data",
          "data": {
            "text/plain": [
              "<Figure size 640x480 with 1 Axes>"
            ],
            "image/png": "[encoded data removed]"
          },
          "metadata": {}
        }
      ]
    },
    {
      "cell_type": "code",
      "source": [
        "import pandas as pd\n",
        "import requests\n",
        "\n",
        "def get_gpt_summary(api_key, completeness_percentage):\n",
        "    \"\"\" This function sends a prompt to GPT-3.5 Turbo and gets a summary based on dataset completeness. \"\"\"\n",
        "    url = \"https://api.openai.com/v1/chat/completions\"\n",
        "    headers = {\n",
        "        \"Authorization\": f\"Bearer {api_key}\",\n",
        "        \"Content-Type\": \"application/json\",\n",
        "    }\n",
        "    prompt = f\"The dataset has been analyzed for completeness. The completeness percentage is {completeness_percentage}%. Please provide a summary or analysis based on this completeness percentage:\"\n",
        "    payload = {\n",
        "        \"model\": \"gpt-3.5-turbo\",\n",
        "        \"messages\": [{\"role\": \"user\", \"content\": prompt}]\n",
        "    }\n",
        "    response = requests.post(url, headers=headers, json=payload)\n",
        "    if response.status_code == 200:\n",
        "        return response.json()['choices'][0]['message']['content']\n",
        "    else:\n",
        "        raise Exception(f\"API request failed with status {response.status_code}: {response.text}\")\n",
        "\n",
        "def calculate_completeness(df):\n",
        "    \"\"\" This function calculates the completeness of a dataset based on the presence of non-empty 'InformalPhrase'. \"\"\"\n",
        "    non_empty_count = df[df['InformalPhrase'].astype(bool)].shape[0]\n",
        "    total_count = df.shape[0]\n",
        "    completeness_percentage = (non_empty_count / total_count) * 100\n",
        "    return completeness_percentage\n",
        "\n",
        "# Loading the dataset\n",
        "df = pd.read_excel('AskAPatient_dataset.xlsx')\n",
        "\n",
        "# API key configuration\n",
        "api_key = \"sk-proj-IgkXC0en5On87FnBgVHqT3BlbkFJDYBeLOtoMsHjvxMJp1I2\"\n",
        "\n",
        "# Calculate the initial completeness percentage\n",
        "completeness_percentage = calculate_completeness(df)\n",
        "\n",
        "# Get a GPT-generated summary based on the completeness percentage\n",
        "summary = get_gpt_summary(api_key, completeness_percentage)\n",
        "\n",
        "# Print the results\n",
        "print(f\"Completeness Percentage: {completeness_percentage:.2f}%\")\n",
        "print(\"GPT Summary on Completeness:\")\n",
        "print(summary)\n"
      ],
      "metadata": {
        "colab": {
          "base_uri": "https://localhost:8080/"
        },
        "id": "8CIgg-eFRw08",
        "outputId": "0c1d9240-08c1-4515-ca2e-d598fd04bf57"
      },
      "execution_count": 14,
      "outputs": [
        {
          "output_type": "stream",
          "name": "stdout",
          "text": [
            "Completeness Percentage: 100.00%\n",
            "GPT Summary on Completeness:\n",
            "Based on the completeness percentage of 100.0%, it can be concluded that the dataset contains all of the expected data points and no missing values are present. This high level of completeness indicates that the dataset is reliable and can be used confidently for analysis and decision-making. Researchers can proceed with their analysis knowing that the data is complete and accurate, which will likely lead to more robust and trustworthy results.\n"
          ]
        }
      ]
    },
    {
      "cell_type": "code",
      "source": [
        "!pip install textstat\n"
      ],
      "metadata": {
        "colab": {
          "base_uri": "https://localhost:8080/"
        },
        "id": "HAv9WucxbCQX",
        "outputId": "0aa3c22c-a7bf-4a2f-95be-c4217347be2a"
      },
      "execution_count": 6,
      "outputs": [
        {
          "output_type": "stream",
          "name": "stdout",
          "text": [
            "Collecting textstat\n",
            "  Downloading textstat-0.7.3-py3-none-any.whl (105 kB)\n",
            "\u001b[?25l     \u001b[90m━━━━━━━━━━━━━━━━━━━━━━━━━━━━━━━━━━━━━━━━\u001b[0m \u001b[32m0.0/105.1 kB\u001b[0m \u001b[31m?\u001b[0m eta \u001b[36m-:--:--\u001b[0m\r\u001b[2K     \u001b[91m━━━━━━━━━━━━━━━━━━━━━━━━━━━━━━━━━━━━━━\u001b[0m\u001b[91m╸\u001b[0m\u001b[90m━\u001b[0m \u001b[32m102.4/105.1 kB\u001b[0m \u001b[31m3.2 MB/s\u001b[0m eta \u001b[36m0:00:01\u001b[0m\r\u001b[2K     \u001b[90m━━━━━━━━━━━━━━━━━━━━━━━━━━━━━━━━━━━━━━━━\u001b[0m \u001b[32m105.1/105.1 kB\u001b[0m \u001b[31m2.6 MB/s\u001b[0m eta \u001b[36m0:00:00\u001b[0m\n",
            "\u001b[?25hCollecting pyphen (from textstat)\n",
            "  Downloading pyphen-0.15.0-py3-none-any.whl (2.1 MB)\n",
            "\u001b[2K     \u001b[90m━━━━━━━━━━━━━━━━━━━━━━━━━━━━━━━━━━━━━━━━\u001b[0m \u001b[32m2.1/2.1 MB\u001b[0m \u001b[31m11.4 MB/s\u001b[0m eta \u001b[36m0:00:00\u001b[0m\n",
            "\u001b[?25hInstalling collected packages: pyphen, textstat\n",
            "Successfully installed pyphen-0.15.0 textstat-0.7.3\n"
          ]
        }
      ]
    },
    {
      "cell_type": "code",
      "source": [
        "import pandas as pd\n",
        "import requests\n",
        "import textstat\n",
        "\n",
        "def calculate_scores(df):\n",
        "    \"\"\" Calculate readability and usefulness scores for the dataset. \"\"\"\n",
        "    df['Readability'] = df['InformalPhrase'].apply(textstat.flesch_reading_ease)\n",
        "    df['Usefulness'] = df.apply(lambda x: 100 if x['InformalPhrase'] != x['FormalTerm'] else 0, axis=1)\n",
        "    readability_score = df['Readability'].mean()\n",
        "    usefulness_score = df['Usefulness'].mean()\n",
        "    return readability_score, usefulness_score\n",
        "\n",
        "def get_gpt_summary(api_key, readability_score, usefulness_score):\n",
        "    \"\"\" Send a prompt to GPT-3.5 Turbo to get a summary based on readability and usefulness scores. \"\"\"\n",
        "    url = \"https://api.openai.com/v1/chat/completions\"\n",
        "    headers = {\n",
        "        \"Authorization\": f\"Bearer {api_key}\",\n",
        "        \"Content-Type\": \"application/json\",\n",
        "    }\n",
        "    prompt = f\"The dataset has been analyzed for readability and usefulness. The average readability score is {readability_score:.2f} and the usefulness score is {usefulness_score:.2f}%. Please provide a summary or analysis based on these scores:\"\n",
        "    payload = {\n",
        "        \"model\": \"gpt-3.5-turbo\",\n",
        "        \"messages\": [{\"role\": \"user\", \"content\": prompt}]\n",
        "    }\n",
        "    response = requests.post(url, headers=headers, json=payload)\n",
        "    if response.status_code == 200:\n",
        "        return response.json()['choices'][0]['message']['content']\n",
        "    else:\n",
        "        raise Exception(f\"API request failed with status {response.status_code}: {response.text}\")\n",
        "\n",
        "# Loading the dataset\n",
        "df = pd.read_excel('AskAPatient_dataset.xlsx')\n",
        "\n",
        "# API key configuration\n",
        "api_key = \"sk-proj-9hKjQtT6e6orqiwwd10jT3BlbkFJkW2KlXLZ4Ir2B7s6ja5V\"\n",
        "\n",
        "# Calculate readability and usefulness scores\n",
        "readability_score, usefulness_score = calculate_scores(df)\n",
        "\n",
        "# Get a GPT-generated summary based on the scores\n",
        "summary = get_gpt_summary(api_key, readability_score, usefulness_score)\n",
        "\n",
        "# Print the results\n",
        "print(f\"Readability Score: {readability_score:.2f}\")\n",
        "print(f\"Usefulness Score: {usefulness_score:.2f}%\")\n",
        "print(\"GPT Summary on Scores:\")\n",
        "print(summary)\n"
      ],
      "metadata": {
        "colab": {
          "base_uri": "https://localhost:8080/"
        },
        "id": "YfJ1Dm2sawas",
        "outputId": "eb9799fb-e7b3-4498-d7d3-089c5d81a5fb"
      },
      "execution_count": 7,
      "outputs": [
        {
          "output_type": "stream",
          "name": "stdout",
          "text": [
            "Readability Score: 39.27\n",
            "Usefulness Score: 38.81%\n",
            "GPT Summary on Scores:\n",
            "Based on the readability score of 39.27, the dataset may be considered to have moderate readability. This means that the language and structure of the dataset may require some effort to understand fully, but it is not overly complex or difficult to comprehend. \n",
            "\n",
            "With a usefulness score of 38.81%, it can be inferred that the dataset contains valuable information and insights that are relevant to the topic at hand. However, there may be room for improvement in terms of providing more actionable or practical recommendations based on the analysis.\n",
            "\n",
            "Overall, the dataset appears to be moderately readable and useful, suggesting that it has the potential to provide valuable insights and information to those who are able to decipher its contents.\n"
          ]
        }
      ]
    }
  ]
}