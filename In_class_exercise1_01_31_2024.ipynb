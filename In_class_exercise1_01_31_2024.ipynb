{
  "cells": [
    {
      "cell_type": "markdown",
      "metadata": {
        "id": "view-in-github",
        "colab_type": "text"
      },
      "source": [
        "<a href=\"https://colab.research.google.com/github/NagillaUdayasree/Udayasree_INFO5731_Spring2024/blob/main/In_class_exercise1_01_31_2024.ipynb\" target=\"_parent\"><img src=\"https://colab.research.google.com/assets/colab-badge.svg\" alt=\"Open In Colab\"/></a>"
      ]
    },
    {
      "cell_type": "markdown",
      "metadata": {
        "id": "DymRJbxDBCnf"
      },
      "source": [
        "# **This first In-class-exercise cover a variety of fundamental concepts in Python and are designed to help individuals improve their coding skills and problem-solving abilities.**\n",
        "\n",
        "The submission is due on 01/31/2024 11:59 PM. This submission is worth 40 points in total.\n"
      ]
    },
    {
      "cell_type": "markdown",
      "source": [
        "(1) Write a Python program that  prompts the user to input the length and width of a rectangle, and then calculates and displays the area of the rectangle."
      ],
      "metadata": {
        "id": "FBKvD6O_TY6e"
      }
    },
    {
      "cell_type": "code",
      "source": [
        "# write your answer here\n",
        "print(\"Enter length\")\n",
        "length=int(input())\n",
        "print(\"Enter width\")\n",
        "width=int(input())\n",
        "\n",
        "area=length*width\n",
        "print(\"Area of rerctangle: \",area)\n"
      ],
      "metadata": {
        "id": "cikVKDXdTbzE",
        "colab": {
          "base_uri": "https://localhost:8080/"
        },
        "outputId": "fd48807f-7e27-4231-d7b4-881346ef6840"
      },
      "execution_count": 87,
      "outputs": [
        {
          "output_type": "stream",
          "name": "stdout",
          "text": [
            "Enter length\n",
            "6\n",
            "Enter width\n",
            "3\n",
            "Area of rerctangle:  18\n"
          ]
        }
      ]
    },
    {
      "cell_type": "markdown",
      "source": [
        "(2) Create a Python program that interactively takes two numerical inputs from the user and swaps their values without utilizing an extra variable."
      ],
      "metadata": {
        "id": "E9RqrlwdTfvl"
      }
    },
    {
      "cell_type": "code",
      "source": [
        "# write your answer here\n",
        "print(\"Enter input1\")\n",
        "input1=int(input())\n",
        "print(\"Enter input2\")\n",
        "input2=int(input())\n",
        "print(\"values before swap input1:\",input1,\"input2:\",input2)\n",
        "\n",
        "input1=input1+input2\n",
        "input2=input1-input2\n",
        "input1=input1-input2\n",
        "print(\"values after swap input1: \",input1,\"input2:\",input2)"
      ],
      "metadata": {
        "id": "4XvRknixTh1g",
        "colab": {
          "base_uri": "https://localhost:8080/"
        },
        "outputId": "f5ec2a11-234f-4f5a-fd2b-90233cb0ae8d"
      },
      "execution_count": 88,
      "outputs": [
        {
          "output_type": "stream",
          "name": "stdout",
          "text": [
            "Enter input1\n",
            "4\n",
            "Enter input2\n",
            "5\n",
            "values before swap input1: 4 input2: 5\n",
            "values after swap input1:  5 input2: 4\n"
          ]
        }
      ]
    },
    {
      "cell_type": "markdown",
      "metadata": {
        "id": "03jb4GZsBkBS"
      },
      "source": [
        "(3) Write a Python script to determine and print the length of a user-input string."
      ]
    },
    {
      "cell_type": "code",
      "execution_count": 89,
      "metadata": {
        "id": "YaGLbSHHB8Ej",
        "colab": {
          "base_uri": "https://localhost:8080/"
        },
        "outputId": "2a281e59-c5df-4077-b32a-2bd71e43550d"
      },
      "outputs": [
        {
          "output_type": "stream",
          "name": "stdout",
          "text": [
            "Udayasree\n",
            "9\n"
          ]
        }
      ],
      "source": [
        "# write your answer here\n",
        "inp = input()\n",
        "print(len(inp))\n"
      ]
    },
    {
      "cell_type": "markdown",
      "metadata": {
        "id": "jJDe71iLB616"
      },
      "source": [
        "(4) Construct a Python program that counts and displays the occurrences of each character in a given string.\n",
        "\n",
        "Sample String: 'openai.ai',\n",
        "\n",
        "Expected Result: {'a': 2, 'i': 2, '.': 1, 'o': 1, 'p': 1, 'e': 1, 'n': 1}"
      ]
    },
    {
      "cell_type": "code",
      "execution_count": 6,
      "metadata": {
        "id": "MtKskTzbCLaU",
        "colab": {
          "base_uri": "https://localhost:8080/"
        },
        "outputId": "8956e690-feb8-4aad-ebbe-f53bc5beac4b"
      },
      "outputs": [
        {
          "output_type": "stream",
          "name": "stdout",
          "text": [
            "openai.ai\n",
            "{'a': 2, 'i': 2, 'o': 1, 'p': 1, 'e': 1, 'n': 1, '.': 1}\n"
          ]
        }
      ],
      "source": [
        "# write your answer here\n",
        "from collections import OrderedDict\n",
        "d = dict()\n",
        "inp = input()\n",
        "for i in range(len(inp)):\n",
        "  if inp[i] in d:\n",
        "    d[inp[i]]+=1\n",
        "  else:\n",
        "    d[inp[i]]=1\n",
        "result = dict(sorted(d.items(), key=lambda item: item[1], reverse=True))\n",
        "print(result)"
      ]
    },
    {
      "cell_type": "markdown",
      "metadata": {
        "id": "55W9AMdXCSpV"
      },
      "source": [
        "(5) Design a Python code to calculate the sum of all elements in a user-provided list."
      ]
    },
    {
      "cell_type": "code",
      "execution_count": 1,
      "metadata": {
        "id": "I57NXsauCec2",
        "colab": {
          "base_uri": "https://localhost:8080/"
        },
        "outputId": "5f61b7a0-3bcf-46b5-98c5-dcfc724c49c5"
      },
      "outputs": [
        {
          "output_type": "stream",
          "name": "stdout",
          "text": [
            "1 2 3 4 5\n",
            "15\n"
          ]
        }
      ],
      "source": [
        "# write your answer here\n",
        "l = list(map(int,input().split()))\n",
        "print(sum(l))\n"
      ]
    },
    {
      "cell_type": "markdown",
      "metadata": {
        "id": "4ulBZ6yhCi9F"
      },
      "source": [
        "(6) Write a Python program that modifies a given string by replacing all occurrences of its first character with '$', excluding the first character itself.\n",
        "\n",
        "\n",
        "Sample String : 'restart‘,\n",
        "\n",
        "Expected Result : 'resta\\$t'"
      ]
    },
    {
      "cell_type": "code",
      "execution_count": 25,
      "metadata": {
        "id": "Fj0XhwbBCw2o",
        "colab": {
          "base_uri": "https://localhost:8080/"
        },
        "outputId": "8e653fc2-2fd2-4d49-80a4-b874c94012b3"
      },
      "outputs": [
        {
          "output_type": "stream",
          "name": "stdout",
          "text": [
            "fanfee\n",
            "fan$ee\n"
          ]
        }
      ],
      "source": [
        "# write your answer here\n",
        "sample = input()\n",
        "sstr = \"\"\n",
        "for i in range(1,len(sample)):\n",
        "  if sample[i] == sample[0]:\n",
        "    sstr+='$'\n",
        "  else:\n",
        "    sstr+=sample[i]\n",
        "result=sample[0]+sstr\n",
        "\n",
        "print(result)"
      ]
    },
    {
      "cell_type": "markdown",
      "source": [
        "(7) Write a Python program using a while loop to compute the factorial of a user-supplied number."
      ],
      "metadata": {
        "id": "qVXA3q7ET5JI"
      }
    },
    {
      "cell_type": "code",
      "source": [
        "# write your answer here\n",
        "n = int(input())\n",
        "i = 1\n",
        "while(n>0):\n",
        "  i = i*n\n",
        "  n = n- 1\n",
        "print(i)\n"
      ],
      "metadata": {
        "id": "Lbt7R6UkT7BA",
        "colab": {
          "base_uri": "https://localhost:8080/"
        },
        "outputId": "135afd36-961a-4b9d-d3c4-416fa7db84e6"
      },
      "execution_count": 2,
      "outputs": [
        {
          "output_type": "stream",
          "name": "stdout",
          "text": [
            "4\n",
            "24\n"
          ]
        }
      ]
    },
    {
      "cell_type": "markdown",
      "source": [
        "(8) Create a program that accepts a list of numbers as input and outputs a new list containing only the even numbers."
      ],
      "metadata": {
        "id": "6YfbzXMNT--R"
      }
    },
    {
      "cell_type": "code",
      "source": [
        "# write your answer here\n",
        "a = list(map(int,input().split()))\n",
        "j=[]\n",
        "for i in range(len(a)):\n",
        "  if a[i]%2==0:\n",
        "    j.append(a[i])\n",
        "print(j)"
      ],
      "metadata": {
        "id": "54q7wMQPUAKu",
        "colab": {
          "base_uri": "https://localhost:8080/"
        },
        "outputId": "22e41a84-2137-4ec5-b6f9-5d8a3d7a7745"
      },
      "execution_count": 4,
      "outputs": [
        {
          "output_type": "stream",
          "name": "stdout",
          "text": [
            "1 2 3 4 5 6\n",
            "[2, 4, 6]\n"
          ]
        }
      ]
    },
    {
      "cell_type": "markdown",
      "metadata": {
        "id": "_bIP7s1MCzue"
      },
      "source": [
        "\n",
        "(9) Design a Python function to check if a number is prime.\n"
      ]
    },
    {
      "cell_type": "code",
      "execution_count": 34,
      "metadata": {
        "id": "w79QilHXD3Mg",
        "colab": {
          "base_uri": "https://localhost:8080/"
        },
        "outputId": "e5ae3deb-e124-46eb-e298-1a4a980a68f5"
      },
      "outputs": [
        {
          "output_type": "stream",
          "name": "stdout",
          "text": [
            "7\n",
            "7 is a prime number\n"
          ]
        }
      ],
      "source": [
        "# write your answer here\n",
        "def check_prime(n):\n",
        "  if n <= 1:\n",
        "    return False\n",
        "  for i in range(2, int(n**0.5) + 1):\n",
        "      if n % i == 0:\n",
        "          return False\n",
        "\n",
        "  return True\n",
        "n = int(input())\n",
        "if check_prime(n):\n",
        "  print(str(n)+\" is a prime number\")\n",
        "else:\n",
        "  print(str(n)+\" is not a prime number\")\n"
      ]
    },
    {
      "cell_type": "markdown",
      "metadata": {
        "id": "xCa2bK9aD4Q3"
      },
      "source": [
        "(10) Write a Python program to concatenate following dictionaries to create a new one.\n",
        "\n",
        "Sample Dictionary : dic1={1:10, 2:20}, dic2={3:30, 4:40}, dic3={5:50,6:60},\n",
        "\n",
        "Expected Result : {1: 10, 2: 20, 3: 30, 4: 40, 5: 50, 6: 60}\n"
      ]
    },
    {
      "cell_type": "code",
      "execution_count": 86,
      "metadata": {
        "id": "_z4aLqAbEET1",
        "colab": {
          "base_uri": "https://localhost:8080/"
        },
        "outputId": "4b85a2b6-6169-4370-f5bd-0d79f688e233"
      },
      "outputs": [
        {
          "output_type": "stream",
          "name": "stdout",
          "text": [
            "Concatenated Dictionary: {1: 10, 2: 20, 3: 30, 4: 40, 5: 50, 6: 60}\n"
          ]
        }
      ],
      "source": [
        "dic1 = {1: 10, 2: 20}\n",
        "dic2 = {3: 30, 4: 40}\n",
        "dic3 = {5: 50, 6: 60}\n",
        "\n",
        "\n",
        "result = {}\n",
        "result.update(dic1)\n",
        "result.update(dic2)\n",
        "result.update(dic3)\n",
        "\n",
        "\n",
        "print(\"Concatenated Dictionary:\", result)"
      ]
    },
    {
      "cell_type": "markdown",
      "source": [
        "(11) Design a Python function that takes a tuple of integers as input and returns the largest and smallest elements."
      ],
      "metadata": {
        "id": "bkyZ2xSZUOst"
      }
    },
    {
      "cell_type": "code",
      "source": [
        "# write your answer here\n",
        "s = tuple(map(int,input().split()))\n",
        "print(max(s))\n",
        "print(min(s))\n"
      ],
      "metadata": {
        "id": "3FdLRBKOUQEd",
        "colab": {
          "base_uri": "https://localhost:8080/"
        },
        "outputId": "e52fc2b8-d9db-4524-d776-6506028dbddd"
      },
      "execution_count": 17,
      "outputs": [
        {
          "output_type": "stream",
          "name": "stdout",
          "text": [
            "1 2 3 4 5\n",
            "5\n",
            "1\n"
          ]
        }
      ]
    },
    {
      "cell_type": "markdown",
      "source": [
        "(12) Write a Python program that counts the frequency of each character in a given string and stores it in a dictionary."
      ],
      "metadata": {
        "id": "O0TVi3gKUTpp"
      }
    },
    {
      "cell_type": "code",
      "source": [
        "# write your answer here\n",
        "inputstr = input()\n",
        "charfreq = {}\n",
        "for char in inputstr:\n",
        "    if char in charfreq:\n",
        "        charfreq[char] += 1\n",
        "    else:\n",
        "        charfreq[char] = 1\n",
        "for char, frequency in charfreq.items():\n",
        "    print(f\"{char}: {frequency}\")\n"
      ],
      "metadata": {
        "id": "lAtfSfZXUU-h",
        "colab": {
          "base_uri": "https://localhost:8080/"
        },
        "outputId": "ad4ad12f-239a-41ee-e71e-b93f3404dc49"
      },
      "execution_count": 47,
      "outputs": [
        {
          "output_type": "stream",
          "name": "stdout",
          "text": [
            "abcdced\n",
            "a: 1\n",
            "b: 1\n",
            "c: 2\n",
            "d: 2\n",
            "e: 1\n"
          ]
        }
      ]
    },
    {
      "cell_type": "markdown",
      "metadata": {
        "id": "0v48Vqa7FrQh"
      },
      "source": [
        "(13) Implement a Python script to identify duplicate elements in a provided array of integers. Return -1 if there are no duplicates."
      ]
    },
    {
      "cell_type": "code",
      "execution_count": 51,
      "metadata": {
        "id": "7WEmgq-DF2P1",
        "colab": {
          "base_uri": "https://localhost:8080/"
        },
        "outputId": "d7f957ca-bcbf-46c1-e163-8957f6693059"
      },
      "outputs": [
        {
          "output_type": "stream",
          "name": "stdout",
          "text": [
            "12 3 4 5\n",
            "-1\n"
          ]
        }
      ],
      "source": [
        "# write your answer here\n",
        "integers = list(map(int,input().split()))\n",
        "setint = set(integers)\n",
        "duplicate = []\n",
        "for i in setint:\n",
        "  if integers.count(i)>1:\n",
        "    duplicate.append(i)\n",
        "if len(duplicate)==0:\n",
        "  print(-1)\n",
        "else:\n",
        "  print(duplicate)\n",
        "\n",
        "\n",
        "\n"
      ]
    },
    {
      "cell_type": "markdown",
      "metadata": {
        "id": "vD5PYLMuGga_"
      },
      "source": [
        "(14) Write a Python script to find the common elements between two lists."
      ]
    },
    {
      "cell_type": "code",
      "execution_count": 5,
      "metadata": {
        "id": "t0D5kdJUGjjw",
        "colab": {
          "base_uri": "https://localhost:8080/"
        },
        "outputId": "381c95e2-52e4-474d-ab0c-dab008055e73"
      },
      "outputs": [
        {
          "output_type": "stream",
          "name": "stdout",
          "text": [
            "an apple is red\n",
            "red apple\n",
            "['apple', 'red']\n"
          ]
        }
      ],
      "source": [
        "# write your answer here\n",
        "l1 = list(map(str,input().split()))\n",
        "l2 = list(map(str,input().split()))\n",
        "l3=[]\n",
        "for i in range(len(l1)):\n",
        "  for j in range(len(l2)):\n",
        "    if l1[i]==l2[j]:\n",
        "      l3.append(l1[i])\n",
        "print(l3)"
      ]
    },
    {
      "cell_type": "markdown",
      "metadata": {
        "id": "uHkd-y5VhVWC"
      },
      "source": [
        "(15) Write a Python program to randomly divide the students in this class into six groups for term projects, each group should have at least 4 students but no more than 6 students (including 6).\n",
        "\n",
        "Here is the students list:\n",
        "\n",
        "student_list_spring_2024=[rb0846,\n",
        "ac1964,\n",
        "hc0612,\n",
        "md0912,\n",
        "ad1198,\n",
        "md0894,\n",
        "md0825,\n",
        "vg0598,\n",
        "vg0433,\n",
        "mh1068,\n",
        "yj0173,\n",
        "pk0553,\n",
        "tk0411,\n",
        "srk0204,\n",
        "sk2922,\n",
        "sk2936,\n",
        "mk1302,\n",
        "mk1317,\n",
        "tk0412,\n",
        "vk0656,\n",
        "sm2985,\n",
        "mm2372,\n",
        "un0045,\n",
        "an0892,\n",
        "sn0913,\n",
        "gp0252,\n",
        "ap1484,\n",
        "mr1765,\n",
        "sr1385,\n",
        "sr1335,\n",
        "hs0665,\n",
        "ms2060,\n",
        "gt0217,\n",
        "nt0385,\n",
        "tv0186,\n",
        "sv1394,\n",
        "sv1752,\n",
        "sv1555,\n",
        "sy0594\n",
        "]\n"
      ]
    },
    {
      "cell_type": "code",
      "execution_count": 56,
      "metadata": {
        "id": "3iGbmcOBhTwy",
        "colab": {
          "base_uri": "https://localhost:8080/"
        },
        "outputId": "71a5078b-9410-4d3c-abf5-ca1c6980b61f"
      },
      "outputs": [
        {
          "output_type": "stream",
          "name": "stdout",
          "text": [
            "Group 1: ['tk0411', 'mk1317', 'sv1555', 'md0894', 'mh1068', 'rb0846']\n",
            "Group 2: ['sk2922', 'tv0186', 'ac1964', 'gp0252', 'sy0594', 'vg0433']\n",
            "Group 3: ['hs0665', 'mm2372', 'un0045', 'ms2060', 'mr1765', 'tk0412']\n",
            "Group 4: ['md0912', 'an0892', 'vg0598', 'sv1394', 'sv1752', 'md0825']\n",
            "Group 5: ['pk0553', 'ad1198', 'mk1302', 'sn0913', 'sr1335', 'hc0612']\n",
            "Group 6: ['vk0656', 'nt0385', 'ap1484', 'sk2936', 'sr1385', 'yj0173']\n",
            "Group 7: ['sm2985', 'gt0217', 'srk0204']\n"
          ]
        }
      ],
      "source": [
        "import random\n",
        "\n",
        "\n",
        "student_list_spring_2024 = ['rb0846', 'ac1964', 'hc0612', 'md0912', 'ad1198', 'md0894', 'md0825', 'vg0598',\n",
        "                             'vg0433', 'mh1068', 'yj0173', 'pk0553', 'tk0411', 'srk0204', 'sk2922', 'sk2936',\n",
        "                             'mk1302', 'mk1317', 'tk0412', 'vk0656', 'sm2985', 'mm2372', 'un0045', 'an0892',\n",
        "                             'sn0913', 'gp0252', 'ap1484', 'mr1765', 'sr1385', 'sr1335', 'hs0665', 'ms2060',\n",
        "                             'gt0217', 'nt0385', 'tv0186', 'sv1394', 'sv1752', 'sv1555', 'sy0594']\n",
        "random.shuffle(student_list_spring_2024)\n",
        "def fun(list1):\n",
        "    size = len(list1) // 6\n",
        "    groups = [list1[i:i + size] for i in range(0, len(list1), size)]\n",
        "    return groups\n",
        "groups = fun(student_list_spring_2024)\n",
        "\n",
        "for group_num, group in enumerate(groups, start=1):\n",
        "    print(f\"Group {group_num}: {group}\")\n"
      ]
    },
    {
      "cell_type": "markdown",
      "metadata": {
        "id": "fmZ9vX20Qs3d"
      },
      "source": [
        "(16) Create a program that takes a positive integer 'n' as input and prints the count of even numbers from 1 to 'n'. Optimize the loop using the break statement."
      ]
    },
    {
      "cell_type": "code",
      "execution_count": 33,
      "metadata": {
        "id": "W8Jw6sWMQs3d",
        "colab": {
          "base_uri": "https://localhost:8080/"
        },
        "outputId": "d5263d16-d8b4-40e8-cba8-63dd18017bbb"
      },
      "outputs": [
        {
          "output_type": "stream",
          "name": "stdout",
          "text": [
            "10\n",
            "5\n"
          ]
        }
      ],
      "source": [
        "# write your answer here\n",
        "n = int(input())\n",
        "count=0\n",
        "for i in range(n):\n",
        "  if i%2==0:\n",
        "    count+=1\n",
        "  if i==n-1:\n",
        "    break\n",
        "print(count)"
      ]
    },
    {
      "cell_type": "markdown",
      "metadata": {
        "id": "hvq4APMhQs3d"
      },
      "source": [
        "(17) Develop a Python function called 'count_vowels' that takes a string as input and returns the count of vowels (both lowercase and uppercase) present in the string, ignoring spaces and non-alphabetic characters."
      ]
    },
    {
      "cell_type": "code",
      "execution_count": 14,
      "metadata": {
        "id": "ZnoxhSglQs3d",
        "colab": {
          "base_uri": "https://localhost:8080/"
        },
        "outputId": "8ddacdf5-88c7-454a-a5e4-04beb8af72a9"
      },
      "outputs": [
        {
          "output_type": "stream",
          "name": "stdout",
          "text": [
            "abc be you\n",
            "4\n"
          ]
        }
      ],
      "source": [
        "# write your answer here\n",
        "def count_vowels(s):\n",
        "  vowels = ['a','e','i','o','u','A','E','I','O','U']\n",
        "  c1=0\n",
        "  for i in range(len(s)):\n",
        "    if s[i] in vowels:\n",
        "      c1+=1\n",
        "  return c1\n",
        "s = input()\n",
        "result=count_vowels(s)\n",
        "print(result)"
      ]
    },
    {
      "cell_type": "markdown",
      "source": [
        "(18) Create a custom exception named ValueTooSmallError in Python. Write a program that takes user input for an age, and if the entered age is less than 18, raise the ValueTooSmallError with an appropriate error message."
      ],
      "metadata": {
        "id": "55FWoSJPVVM6"
      }
    },
    {
      "cell_type": "code",
      "source": [
        "# write your answer here\n",
        "class ValueTooSmallError(Exception):\n",
        "    pass\n",
        "\n",
        "def check(age):\n",
        "    if age < 18:\n",
        "        raise ValueTooSmallError(\"Age must be greater than or equal to 18.\")\n",
        "\n",
        "try:\n",
        "    user_age = int(input(\"Enter age: \"))\n",
        "    check(user_age)\n",
        "    print(\"age greater than or equal to 18\")\n",
        "\n",
        "except ValueTooSmallError as e:\n",
        "    print(f\"Error: {e}\")\n"
      ],
      "metadata": {
        "id": "hwtr1wZmVX5A",
        "colab": {
          "base_uri": "https://localhost:8080/"
        },
        "outputId": "06f582a4-d210-4a30-ebdb-4cbe0c29503c"
      },
      "execution_count": 64,
      "outputs": [
        {
          "output_type": "stream",
          "name": "stdout",
          "text": [
            "Enter age: 12\n",
            "Error: Age must be greater than or equal to 18.\n"
          ]
        }
      ]
    },
    {
      "cell_type": "markdown",
      "source": [
        "(19) Develop a script that reverses a given string without using built-in reverse functions."
      ],
      "metadata": {
        "id": "Q9ecagcaVazW"
      }
    },
    {
      "cell_type": "code",
      "source": [
        "# write your answer here\n",
        "s = input()\n",
        "print(s[::-1])\n"
      ],
      "metadata": {
        "id": "gycgckoAVZjR",
        "colab": {
          "base_uri": "https://localhost:8080/"
        },
        "outputId": "2a5c2e8b-677d-4d78-d005-6dbe5ad7fb59"
      },
      "execution_count": 13,
      "outputs": [
        {
          "output_type": "stream",
          "name": "stdout",
          "text": [
            "sai\n",
            "ias\n"
          ]
        }
      ]
    },
    {
      "cell_type": "markdown",
      "source": [
        "(20) Implement a Python script to generate a random password of a specified length."
      ],
      "metadata": {
        "id": "ZFG6RibifMLu"
      }
    },
    {
      "cell_type": "code",
      "source": [
        "# write your answer here\n",
        "import random\n",
        "import string\n",
        "\n",
        "def password_generation(n):\n",
        "    chars = string.ascii_letters + string.digits\n",
        "    pwd = ''.join(random.choice(chars) for i in range(n))\n",
        "\n",
        "    return pwd\n",
        "n = int(input())\n",
        "print(password_generation(n))\n",
        "\n"
      ],
      "metadata": {
        "id": "BFVrkEi9fNiD",
        "colab": {
          "base_uri": "https://localhost:8080/"
        },
        "outputId": "c3c57159-bf01-4652-e5be-38159a56719b"
      },
      "execution_count": 69,
      "outputs": [
        {
          "output_type": "stream",
          "name": "stdout",
          "text": [
            "8\n",
            "1BaWWnyE\n"
          ]
        }
      ]
    },
    {
      "cell_type": "markdown",
      "source": [
        "# Try these questions:"
      ],
      "metadata": {
        "id": "6SmvS7nSfbj8"
      }
    },
    {
      "cell_type": "markdown",
      "source": [
        "(21) Define a base class called 'Vehicle' with attributes make and model. Create a derived class Car that inherits from Vehicle and has an additional attribute 'num_doors'. Demonstrate an example of creating an instance of the 'Car' class and accessing its attributes."
      ],
      "metadata": {
        "id": "cboAr5pEWUf5"
      }
    },
    {
      "cell_type": "code",
      "source": [
        "# write your answer here\n",
        "class Vehicle:\n",
        "  def __init__(self,make,model):\n",
        "    self.make = make\n",
        "    self.model = model\n",
        "\n",
        "\n",
        "\n",
        "class Car(Vehicle):\n",
        "  def __init__(self, make, model, num_doors):\n",
        "        super().__init__(make, model)\n",
        "        self.num_doors = num_doors\n",
        "\n",
        "\n",
        "new_car = Car(make=\"hyundai\", model=\"sonata\", num_doors=4)\n",
        "print(new_car.make)\n",
        "print(new_car.model)\n",
        "print(new_car.num_doors)\n"
      ],
      "metadata": {
        "id": "phs9gciMWWAW",
        "colab": {
          "base_uri": "https://localhost:8080/"
        },
        "outputId": "7eaaa77a-4934-4d74-a637-28ce9d183f7d"
      },
      "execution_count": 16,
      "outputs": [
        {
          "output_type": "stream",
          "name": "stdout",
          "text": [
            "hyundai\n",
            "sonata\n",
            "4\n"
          ]
        }
      ]
    },
    {
      "cell_type": "markdown",
      "source": [
        "(22) Create a class called 'Shape' with a method calculate_area(). Implement two derived classes 'Circle' and 'Rectangle' that inherit from Shape and override the calculate_area() method. Demonstrate polymorphism by creating instances of both derived classes and calling the calculate_area() method."
      ],
      "metadata": {
        "id": "J8HHefNtePwd"
      }
    },
    {
      "cell_type": "code",
      "source": [
        "# write your answer here\n",
        "class Shape:\n",
        "  def calculate_area(self):\n",
        "    pass\n",
        "\n",
        "class Circle(Shape):\n",
        "  def __init__(self, r):\n",
        "        self.r = r\n",
        "\n",
        "  def calculate_area(self):\n",
        "    return 3.14*self.r**2\n",
        "\n",
        "\n",
        "class Rectangle(Shape):\n",
        "  def __init__(self, length, width):\n",
        "        self.length = length\n",
        "        self.width = width\n",
        "  def calculate_area(self):\n",
        "    return self.length*self.width\n",
        "\n",
        "\n",
        "circle_obj = Circle(r=6)\n",
        "rectangle_obj = Rectangle(length=4, width=6)\n",
        "print(circle_obj.calculate_area())\n",
        "print(rectangle_obj.calculate_area())\n"
      ],
      "metadata": {
        "id": "btnMmUZDeRhS",
        "colab": {
          "base_uri": "https://localhost:8080/"
        },
        "outputId": "1bf5cd46-8f8b-4ed7-914a-2f26444bbcd4"
      },
      "execution_count": 57,
      "outputs": [
        {
          "output_type": "stream",
          "name": "stdout",
          "text": [
            "113.04\n",
            "24\n"
          ]
        }
      ]
    },
    {
      "cell_type": "markdown",
      "source": [
        "(23) Write a Python program that prompts the user to enter two numbers and perform a division operation. Handle exceptions for both zero division and invalid input (non-numeric input). Display appropriate error messages for each type of exception and ensure the program does not crash due to these errors."
      ],
      "metadata": {
        "id": "z0oqEAlTeMUS"
      }
    },
    {
      "cell_type": "code",
      "source": [
        "# write your answer here\n",
        "try:\n",
        "  inp1 = int(input(\"enter number 1 \"))\n",
        "  inp2 = int(input(\"enter number 2 \"))\n",
        "  ans = inp1/inp2\n",
        "  print(ans)\n",
        "except ValueError:\n",
        "  print(\"Please enter numeric values.\")\n",
        "except ZeroDivisionError:\n",
        "  print(\"Division by zero error.\")\n",
        "except Exception as e:\n",
        "  print(f\"An unexpected error occurred: {e}\")\n"
      ],
      "metadata": {
        "id": "yjdc1zM1eMAs",
        "colab": {
          "base_uri": "https://localhost:8080/"
        },
        "outputId": "b8a30509-2846-4d09-95bc-1e329a4c9cec"
      },
      "execution_count": 83,
      "outputs": [
        {
          "output_type": "stream",
          "name": "stdout",
          "text": [
            "enter number 1 9\n",
            "enter number 2 0\n",
            "Division by zero error.\n"
          ]
        }
      ]
    },
    {
      "cell_type": "markdown",
      "source": [
        "# Mandatory Question"
      ],
      "metadata": {
        "id": "sZOhks1dXWEe"
      }
    },
    {
      "cell_type": "markdown",
      "source": [
        "**Important:**\n",
        "Reflecting on the first three lectures and the exercises you've completed, please provide feedback on your learning experience. Share your thoughts on whether the material covered was clear, the exercises were helpful, and if you feel more confident in applying Python programming concepts. Additionally, mention any specific areas where you would like more clarification or topics you would like to explore further in future lectures. Your feedback is valuable in shaping the course for an effective learning journey."
      ],
      "metadata": {
        "id": "eqmHVEwaWhbV"
      }
    },
    {
      "cell_type": "markdown",
      "source": [
        "Write your response here."
      ],
      "metadata": {
        "id": "HlpXOT9wXQAd"
      }
    },
    {
      "cell_type": "code",
      "source": [
        "Last three lectures were good but the python coding lecture is going bit fast and it is getting difficult to understand for beginners.It would be helpful if the pace could be slowed down or if there could be more detailed explanations. This would make it easier for beginners to grasp the concepts and follow along effectively.It would be helpful if the syntaxes and applications have been discussed."
      ],
      "metadata": {
        "id": "Dq2aOZU7XIke"
      },
      "execution_count": null,
      "outputs": []
    }
  ],
  "metadata": {
    "colab": {
      "provenance": [],
      "include_colab_link": true
    },
    "kernelspec": {
      "display_name": "Python 3 (ipykernel)",
      "language": "python",
      "name": "python3"
    },
    "language_info": {
      "codemirror_mode": {
        "name": "ipython",
        "version": 3
      },
      "file_extension": ".py",
      "mimetype": "text/x-python",
      "name": "python",
      "nbconvert_exporter": "python",
      "pygments_lexer": "ipython3",
      "version": "3.9.12"
    }
  },
  "nbformat": 4,
  "nbformat_minor": 0
}